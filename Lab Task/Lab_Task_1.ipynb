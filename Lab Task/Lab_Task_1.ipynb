{
  "nbformat": 4,
  "nbformat_minor": 0,
  "metadata": {
    "colab": {
      "provenance": []
    },
    "kernelspec": {
      "name": "python3",
      "display_name": "Python 3"
    },
    "language_info": {
      "name": "python"
    }
  },
  "cells": [
    {
      "cell_type": "markdown",
      "source": [
        "**Qustion 1:- Left Shift**"
      ],
      "metadata": {
        "id": "G1GpnzhlR-7O"
      }
    },
    {
      "cell_type": "code",
      "source": [
        "def shiftLeft(source, k):\n",
        "    n = len(source)\n",
        "\n",
        "    for i in range(n - k):\n",
        "        source[i] = source[i + k]\n",
        "\n",
        "    for i in range(n - k, n):\n",
        "        source[i] = 0\n",
        "\n",
        "\n",
        "source = [10, 20, 30, 40, 50, 60]\n",
        "shiftLeft(source, 3)\n",
        "print(source)"
      ],
      "metadata": {
        "colab": {
          "base_uri": "https://localhost:8080/"
        },
        "id": "Go7PUcrmSP4F",
        "outputId": "c385f6d8-cda8-4485-b367-eaf931b3fadc"
      },
      "execution_count": 1,
      "outputs": [
        {
          "output_type": "stream",
          "name": "stdout",
          "text": [
            "[40, 50, 60, 0, 0, 0]\n"
          ]
        }
      ]
    },
    {
      "cell_type": "markdown",
      "source": [
        "**Question 2:- Rotate Left K cell**"
      ],
      "metadata": {
        "id": "wUYgWIu8SWgW"
      }
    },
    {
      "cell_type": "code",
      "source": [
        "def rotateLeft(source, k):\n",
        "    n = len(source)\n",
        "    k = k % n\n",
        "    rotated = source[k:] + source[:k]\n",
        "    for i in range(n):\n",
        "        source[i] = rotated[i]\n",
        "\n",
        "source = [10, 20, 30, 40, 50, 60]\n",
        "rotateLeft(source, 3)\n",
        "print(source)"
      ],
      "metadata": {
        "id": "WvkWypV8SeDr"
      },
      "execution_count": null,
      "outputs": []
    },
    {
      "cell_type": "markdown",
      "source": [
        "**Question 3:- Remove an element from an array** **bold text**"
      ],
      "metadata": {
        "id": "dR_5pKlDSofc"
      }
    },
    {
      "cell_type": "code",
      "source": [
        "def remove(source, size, idx):\n",
        "    if idx < 0 or idx >= size:\n",
        "        return\n",
        "    for i in range(idx, size - 1):\n",
        "        source[i] = source[i + 1]\n",
        "    source[size - 1] = 0\n",
        "\n",
        "source = [10, 20, 30, 40, 50, 0, 0]\n",
        "size = 5\n",
        "idx = 2\n",
        "remove(source, size, idx)\n",
        "print(source)"
      ],
      "metadata": {
        "colab": {
          "base_uri": "https://localhost:8080/"
        },
        "id": "2oaEu3ZMSt1F",
        "outputId": "525cc8eb-5884-4917-c2c1-281ab7fff2ba"
      },
      "execution_count": 2,
      "outputs": [
        {
          "output_type": "stream",
          "name": "stdout",
          "text": [
            "[10, 20, 40, 50, 0, 0, 0]\n"
          ]
        }
      ]
    },
    {
      "cell_type": "markdown",
      "source": [
        "**Question 4:- Remove all occurrences of a particular element from an array**"
      ],
      "metadata": {
        "id": "vg2v2J4TTE5d"
      }
    },
    {
      "cell_type": "code",
      "source": [
        "def removeAll(source, size, element):\n",
        "    i = 0\n",
        "    while i < size:\n",
        "        if source[i] == element:\n",
        "            for j in range(i, size - 1):\n",
        "                source[j] = source[j + 1]\n",
        "            source[size - 1] = 0\n",
        "            size -= 1\n",
        "        else:\n",
        "            i += 1\n",
        "\n",
        "source = [10, 2, 30, 2, 50, 2, 2, 0, 0]\n",
        "size = 7\n",
        "element = 2\n",
        "removeAll(source, size, element)\n",
        "print(source)"
      ],
      "metadata": {
        "colab": {
          "base_uri": "https://localhost:8080/"
        },
        "id": "sVtxXRffTYzU",
        "outputId": "fcb34d72-3233-4ba7-d49e-d91eff60e928"
      },
      "execution_count": 3,
      "outputs": [
        {
          "output_type": "stream",
          "name": "stdout",
          "text": [
            "[10, 30, 50, 0, 0, 0, 0, 0, 0]\n"
          ]
        }
      ]
    }
  ]
}